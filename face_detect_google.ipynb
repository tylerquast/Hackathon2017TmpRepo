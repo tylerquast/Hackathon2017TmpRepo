{
 "cells": [
  {
   "cell_type": "markdown",
   "metadata": {},
   "source": [
    "### Detect the face by google api\n",
    "The first thing is to make sure the library is up-to-date"
   ]
  },
  {
   "cell_type": "code",
   "execution_count": 1,
   "metadata": {},
   "outputs": [
    {
     "name": "stdout",
     "output_type": "stream",
     "text": [
      "Requirement already up-to-date: requests in /opt/python3.6/lib/python3.6/site-packages\n",
      "Requirement already up-to-date: certifi>=2017.4.17 in /opt/python3.6/lib/python3.6/site-packages (from requests)\n",
      "Requirement already up-to-date: urllib3<1.23,>=1.21.1 in /opt/python3.6/lib/python3.6/site-packages (from requests)\n",
      "Requirement already up-to-date: idna<2.7,>=2.5 in /opt/python3.6/lib/python3.6/site-packages (from requests)\n",
      "Requirement already up-to-date: chardet<3.1.0,>=3.0.2 in /opt/python3.6/lib/python3.6/site-packages (from requests)\n"
     ]
    }
   ],
   "source": [
    "!pip3.6 install -U requests"
   ]
  },
  {
   "cell_type": "markdown",
   "metadata": {},
   "source": [
    "Then we have a quick demo to see we could detect face by off-loading the task to google cloud vision library. The communication is done by sending a POST request to Google cloud api with the requested content. \n",
    "\n",
    "Note:(a Google API Key is required)"
   ]
  },
  {
   "cell_type": "markdown",
   "metadata": {},
   "source": [
    "We use this man as an example\n",
    "![alt text](smiling.jpg \"Smiling man\")"
   ]
  },
  {
   "cell_type": "code",
   "execution_count": 2,
   "metadata": {},
   "outputs": [],
   "source": [
    "# load the pic first\n",
    "\n",
    "from PIL import Image\n",
    "img = Image.open('smiling.jpg')"
   ]
  },
  {
   "cell_type": "code",
   "execution_count": 3,
   "metadata": {},
   "outputs": [],
   "source": [
    "# convert the pic to base64 for network transmit\n",
    "import base64\n",
    "\n",
    "with open(\"smiling.jpg\", \"rb\") as image_file:\n",
    "    img_bin = image_file.read()\n",
    "    encoded_string = base64.b64encode(img_bin)"
   ]
  },
  {
   "cell_type": "code",
   "execution_count": 4,
   "metadata": {},
   "outputs": [],
   "source": [
    "# Send the request\n",
    "import requests\n",
    "import json\n",
    "\n",
    "# without this code doesnt work\n",
    "GOOGLE_API_KEY=\"KEY GOES HERE\"\n",
    "REQUEST_URL=\"https://vision.googleapis.com/v1/images:annotate?key=\"+GOOGLE_API_KEY\n",
    "\n",
    "PAYLOAD_STR = \"\"\"{\n",
    "  \"requests\":[\n",
    "    {\n",
    "      \"image\":{\n",
    "        \"content\":\"\"\n",
    "      },\n",
    "      \"features\":[\n",
    "        {\n",
    "          \"type\":\"FACE_DETECTION\",\n",
    "          \"maxResults\":1\n",
    "        }\n",
    "      ]\n",
    "    }\n",
    "  ]\n",
    "}\"\"\"\n",
    "\n",
    "PAYLOAD = json.loads(PAYLOAD_STR)\n",
    "PAYLOAD['requests'][0]['image']['content'] = encoded_string.decode('ascii')\n",
    "\n",
    "response = requests.post(REQUEST_URL, json=PAYLOAD)"
   ]
  },
  {
   "cell_type": "code",
   "execution_count": 5,
   "metadata": {},
   "outputs": [
    {
     "name": "stdout",
     "output_type": "stream",
     "text": [
      "the man is VERY_LIKELY to be happy\n"
     ]
    }
   ],
   "source": [
    "degree = response.json()['responses'][0]['faceAnnotations'][0]['joyLikelihood']\n",
    "print('the man is', degree, 'to be happy')"
   ]
  },
  {
   "cell_type": "code",
   "execution_count": null,
   "metadata": {},
   "outputs": [],
   "source": []
  }
 ],
 "metadata": {
  "kernelspec": {
   "display_name": "Python 3",
   "language": "python",
   "name": "python3"
  },
  "language_info": {
   "codemirror_mode": {
    "name": "ipython",
    "version": 3
   },
   "file_extension": ".py",
   "mimetype": "text/x-python",
   "name": "python",
   "nbconvert_exporter": "python",
   "pygments_lexer": "ipython3",
   "version": "3.6.0"
  }
 },
 "nbformat": 4,
 "nbformat_minor": 2
}
