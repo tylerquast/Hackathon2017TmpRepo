{
 "cells": [
  {
   "cell_type": "markdown",
   "metadata": {},
   "source": [
    "# Video Capture and Record\n",
    "\n",
    "This file records in video from an external webcam and saves it to a file to be viewed at a later time"
   ]
  },
  {
   "cell_type": "markdown",
   "metadata": {},
   "source": [
    "## 1. Add imports and Initialize the Camera"
   ]
  },
  {
   "cell_type": "code",
   "execution_count": 1,
   "metadata": {},
   "outputs": [
    {
     "name": "stdout",
     "output_type": "stream",
     "text": [
      "capture device is open: True\n"
     ]
    }
   ],
   "source": [
    "import numpy as np\n",
    "import cv2\n",
    "import time\n",
    "\n",
    "\n",
    "frame_in_w = 640\n",
    "frame_in_h = 480\n",
    "\n",
    "videoIn = cv2.VideoCapture(0)\n",
    "videoIn.set(cv2.CAP_PROP_FRAME_WIDTH, frame_in_w);\n",
    "videoIn.set(cv2.CAP_PROP_FRAME_HEIGHT, frame_in_h);\n",
    "print(\"capture device is open: \" + str(videoIn.isOpened()))"
   ]
  },
  {
   "cell_type": "markdown",
   "metadata": {},
   "source": [
    "## 2. Error checking\n",
    "\n",
    "check to make sure the camera is capturing images succesfully. The word \"Captured\" will be displayed if the camera is configured correctly."
   ]
  },
  {
   "cell_type": "code",
   "execution_count": 2,
   "metadata": {},
   "outputs": [
    {
     "name": "stdout",
     "output_type": "stream",
     "text": [
      "captured\n"
     ]
    }
   ],
   "source": [
    "ret, frame_vga = videoIn.read()\n",
    "\n",
    "if (ret):\n",
    "    print(\"captured\")\n",
    "else:\n",
    "    raise RuntimeError(\"Error while reading from camera.\")"
   ]
  },
  {
   "cell_type": "markdown",
   "metadata": {},
   "source": [
    "## 3. Define fourcc and outputfile\n",
    "the output file name and file extnesion can be edited from this line."
   ]
  },
  {
   "cell_type": "code",
   "execution_count": 3,
   "metadata": {},
   "outputs": [],
   "source": [
    "# Define the codec and create VideoWriter object\n",
    "fourcc = cv2.VideoWriter_fourcc(*'XVID')\n",
    "timestr = time.strftime(\"%Y%m%d-%H%M%S\")\n",
    "out = cv2.VideoWriter('SavedVideos/'+timestr + '.avi',fourcc, 10.0, (frame_in_w,frame_in_h))"
   ]
  },
  {
   "cell_type": "markdown",
   "metadata": {},
   "source": [
    "## 4. Run the loop and Store Frames to Output File\n",
    "\n",
    "Begin the process of saving frames to the output file. The duration of the video can be changed by updating the \"videoDuration\" variable. The default is 5 seconds."
   ]
  },
  {
   "cell_type": "code",
   "execution_count": 4,
   "metadata": {},
   "outputs": [],
   "source": [
    "videoDuration = 5\n",
    "counter=0\n",
    "\n",
    "t_end = time.time()+videoDuration\n",
    "while(time.time() < t_end and videoIn.isOpened()):\n",
    "    ret, frame = videoIn.read()\n",
    "    counter+=1\n",
    "    if ret==True:\n",
    "        if (counter&100):\n",
    "            #print(counter)\n",
    "            pass\n",
    "        # write the flipped frame\n",
    "        out.write(frame)\n",
    "    else:\n",
    "        break\n",
    "\n",
    "# Release everything if job is finished"
   ]
  },
  {
   "cell_type": "markdown",
   "metadata": {},
   "source": [
    "## 5. Release the Camera and Save the File\n",
    "\n",
    "The camera is closed which allows the file to be saved."
   ]
  },
  {
   "cell_type": "code",
   "execution_count": 5,
   "metadata": {},
   "outputs": [],
   "source": [
    "videoIn.release()\n",
    "out.release()"
   ]
  }
 ],
 "metadata": {
  "kernelspec": {
   "display_name": "Python 3",
   "language": "python",
   "name": "python3"
  },
  "language_info": {
   "codemirror_mode": {
    "name": "ipython",
    "version": 3
   },
   "file_extension": ".py",
   "mimetype": "text/x-python",
   "name": "python",
   "nbconvert_exporter": "python",
   "pygments_lexer": "ipython3",
   "version": "3.6.0"
  }
 },
 "nbformat": 4,
 "nbformat_minor": 2
}
